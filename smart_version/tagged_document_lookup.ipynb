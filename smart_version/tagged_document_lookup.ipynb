{
 "cells": [
  {
   "cell_type": "markdown",
   "metadata": {},
   "source": [
    "For this solution, I created a database with three tables: documents, tags and tags_documents. <tags> and <documents> have IDs which are primary keys.\n",
    "In <tags_documents> table, there are tag_id and document_id columns which are connected to IDs in <tags> and <documents> tables correspondingly. Also I added unique key on name of tags in <tags> table since search is based on that.It will allow for fast retrieval of data\n",
    "    \n",
    "    \n"
   ]
  },
  {
   "attachments": {
    "photo_2022-03-30_22-27-30.jpg": {
     "image/jpeg": "[encoded data removed]"
    }
   },
   "cell_type": "markdown",
   "metadata": {},
   "source": [
    "![photo_2022-03-30_22-27-30.jpg](attachment:photo_2022-03-30_22-27-30.jpg)"
   ]
  },
  {
   "cell_type": "code",
   "execution_count": 13,
   "metadata": {},
   "outputs": [],
   "source": [
    "import mysql.connector\n",
    "from mysql.connector import Error\n",
    "import sys\n",
    "import random\n",
    "from datetime import datetime"
   ]
  },
  {
   "cell_type": "code",
   "execution_count": 14,
   "metadata": {},
   "outputs": [],
   "source": [
    "# singelton class for database connection\n",
    "class DBConnector:\n",
    "\n",
    "    __instance = None\n",
    "\n",
    "    def __new__(self):\n",
    "        if not self.__instance:\n",
    "            self.__instance = super(DBConnector, self).__new__(self)\n",
    "        return self.__instance\n",
    "\n",
    "     \n",
    "    def __init__(self):\n",
    "        try:\n",
    "            self.__connection = mysql.connector.connect(host=\"localhost\",\n",
    "                                                        database=\"task2\",\n",
    "                                                        user=\"root\",\n",
    "                                                        password=\"\")\n",
    "            if self.__connection.is_connected():\n",
    "                print(\"Connection established\")\n",
    "                self.__connection_cursor = self.__connection.cursor()      \n",
    "            else:\n",
    "                print(\"ERROR: Cannot connect to database:\")\n",
    "                print(f\"    Host: {self.__host}\")\n",
    "                print(f\"    Database: {self.__database}\")\n",
    "                print(f\"    User: {self.__user}\")\n",
    "                sys.exit()\n",
    "          \n",
    "        except Error as e:\n",
    "            print(\"Error while connecting to MySQL\", e)\n",
    "            sys.exit()\n",
    "                          \n",
    "    def __del__(self):\n",
    "        if self.__connection: \n",
    "            self.close_connection()\n",
    "            print(\"Connection closed\")\n",
    "    \n",
    "    def close_connection(self):\n",
    "        if self.__connection.is_connected():\n",
    "            self.__connection.close()\n",
    "        \n",
    "    # inserts a row in a table and returns the row's id\n",
    "    def insert_into_table(self, table, value):\n",
    "        value = (value,)\n",
    "        sql = \"INSERT INTO {table_name} (name) VALUES  (%s)\".format(table_name=table)\n",
    "        self.__connection_cursor.execute(sql, value)\n",
    "        self.__connection.commit()\n",
    "        row_id = self.__connection_cursor.lastrowid\n",
    "        return row_id\n",
    "\n",
    "    # check if the tag/document is present in db\n",
    "    # if not, insert it\n",
    "    # return the id of the value\n",
    "    def insert_and_get_id(self, table, value):\n",
    "        sql = \"SELECT id from {table_name} WHERE name='{value}'\".format(table_name=table, value=value)\n",
    "        self.__connection_cursor.execute(sql)\n",
    "        row_id = self.__connection_cursor.fetchone()\n",
    "        if row_id is None:\n",
    "            row_id = self.insert_into_table(table, value)\n",
    "        else:\n",
    "            row_id = row_id[0]\n",
    "                          \n",
    "        return row_id\n",
    "    \n",
    "    # create a relationship between the document and tag by inserting their ids in <tags_documents> table\n",
    "    def create_relationship(self, doc_tag_id):\n",
    "        # temporarily disabe checks on foreghn key in order to insert into the table \n",
    "        sql = \"SET FOREIGN_KEY_CHECKS=OFF;\"\n",
    "        self.__connection_cursor.execute(sql)\n",
    "        self.__connection.commit()\n",
    "        self.__connection_cursor.reset()\n",
    "        # insert              \n",
    "        sql = \"INSERT INTO tags_documents (document, tag) VALUES (%s, %s)\"\n",
    "        self.__connection_cursor.execute(sql, doc_tag_id)\n",
    "        self.__connection.commit()\n",
    "        self.__connection_cursor.reset()\n",
    "        # turn checks back on                  \n",
    "        sql = \"SET FOREIGN_KEY_CHECKS=ON;\"\n",
    "        self.__connection_cursor.execute(sql)\n",
    "        self.__connection.commit()\n",
    "        self.__connection_cursor.reset()\n",
    "    \n",
    "    # given the document and the set of tags it is associated with, insert them in <documents> and <tags> tables\n",
    "    # do not create relationship yet\n",
    "    def insert_tagged_doc(self, document, tags):\n",
    "        doc_id = self.insert_and_get_id(\"documents\", document)\n",
    "        for i in range(len(tags)):\n",
    "            tag_id = self.insert_and_get_id(\"tags\", tags[i])\n",
    "    \n",
    "    # look for the rows that have the providred tags' ids in <tags_documents> table \n",
    "    # take the document ids of the found rows\n",
    "    # finally select the documents that have the found document ids in <documents> table\n",
    "    def search(self, tags):\n",
    "        tags_str = \"('\" + \"','\".join(map(str, tags)) + \"')\"\n",
    "        sql = \"\"\"SELECT documents.name  \n",
    "                 FROM documents LEFT JOIN tags_documents ON tags_documents.document = documents.id\n",
    "                 LEFT JOIN tags ON tags_documents.tag = tags.id \n",
    "                 WHERE tags.name IN\"\"\" + tags_str\n",
    "        self.__connection_cursor.execute(sql)\n",
    "        rows = self.__connection_cursor.fetchall()\n",
    "        self.__connection.commit()\n",
    "        self.__connection_cursor.reset()\n",
    "            \n",
    "        return rows"
   ]
  },
  {
   "cell_type": "code",
   "execution_count": 27,
   "metadata": {},
   "outputs": [],
   "source": [
    "# class for database maintenance \n",
    "class DocumentHandler:\n",
    "    __instance = None\n",
    "    \n",
    "    def __new__(self):\n",
    "        if not self.__instance:\n",
    "            self.__instance = super(DocumentHandler, self).__new__(self)\n",
    "        return self.__instance         \n",
    "        \n",
    "    def __init__(self):\n",
    "        self.__db_connector = DBConnector() # handle to database\n",
    "        \n",
    "        self.__document_to_tag_id = set() # set for storing existing connections between documents and tags\n",
    "                                          # used checking whether connection already exists or not\n",
    "                                          # if not, create a relationship between the document and tag by calling create_realtionship function        \n",
    "    \n",
    "    # insert document with corresponding tags and create relationships if needed\n",
    "    def insert_tagged_doc(self, document, tags):\n",
    "        doc_id = self.__db_connector.insert_and_get_id(\"documents\", document)\n",
    "        for i in range(len(tags)):\n",
    "            tag_id = self.__db_connector.insert_and_get_id(\"tags\", tags[i])\n",
    "            doc_tag_id = (doc_id, tag_id)\n",
    "            if doc_tag_id in self.__document_to_tag_id: \n",
    "                return\n",
    "            \n",
    "            self.__db_connector.create_relationship(doc_tag_id)\n",
    "            self.__document_to_tag_id.add(doc_tag_id)\n",
    "            \n",
    "    # given set of tags, search for the correspoding documents\n",
    "    def search(self, tags):\n",
    "        tags = tuple(tags)\n",
    "        return self.__db_connector.search(tags)\n",
    "    \n",
    "    # report the found documents in a file\n",
    "    def stream_out_file_names(self, tags):\n",
    "        found_docs = open(\"found_documents.txt\", \"w\") \n",
    "        \n",
    "        found_docs.write(\"Searching for the following set of tags:\\n\")\n",
    "        for tag in tags:\n",
    "            found_docs.write(tag + \" \")\n",
    "        \n",
    "        found_docs.write(\"\\n\\n\")\n",
    "        \n",
    "        documents = self.search(tags)\n",
    "        numberOfDocs = str(len(documents))\n",
    "        found_docs.write(f\"Found {numberOfDocs} documents:\\n\")\n",
    "        \n",
    "        for doc in documents:\n",
    "            found_docs.write(doc[0])\n",
    "            found_docs.write(\"\\n\")\n",
    "\n",
    "        found_docs.close()"
   ]
  },
  {
   "cell_type": "code",
   "execution_count": 7,
   "metadata": {},
   "outputs": [
    {
     "name": "stdout",
     "output_type": "stream",
     "text": [
      "Connection established\n"
     ]
    }
   ],
   "source": [
    "print(\"Filling database...\")\n",
    "documentHandler = DocumentHandler()\n",
    "N = 1000000\n",
    "for i in range(1,N):\n",
    "    doc_name = \"doc_\" + str(i)\n",
    "    tag_count = random.randint(1,7)\n",
    "    tag_list = []\n",
    "    for j in range(tag_count):\n",
    "        tag_id = random.randint(1,100)\n",
    "        tag_name = \"tag_\" + str(tag_id)\n",
    "        tag_list.insert(j, tag_name)\n",
    "        documentHandler.insert_tagged_doc(doc_name, tag_list)\n",
    "\n",
    "print(\"Done! Database filled\")\n"
   ]
  },
  {
   "cell_type": "code",
   "execution_count": 28,
   "metadata": {},
   "outputs": [
    {
     "name": "stdout",
     "output_type": "stream",
     "text": [
      "Connection established\n"
     ]
    }
   ],
   "source": [
    "tag_count = random.randint(1,40)\n",
    "tags_to_be_searched = set()\n",
    "for i in range(tag_count):\n",
    "    tag_id = random.randint(1,100)\n",
    "    tag_name = \"tag_\" + str(tag_id)\n",
    "    tags_to_be_searched.add(tag_name)\n",
    "        \n",
    "documentHandler.stream_out_file_names(tags_to_be_searched)"
   ]
  },
  {
   "cell_type": "code",
   "execution_count": null,
   "metadata": {},
   "outputs": [],
   "source": []
  }
 ],
 "metadata": {
  "kernelspec": {
   "display_name": "Python 3",
   "language": "python",
   "name": "python3"
  },
  "language_info": {
   "codemirror_mode": {
    "name": "ipython",
    "version": 3
   },
   "file_extension": ".py",
   "mimetype": "text/x-python",
   "name": "python",
   "nbconvert_exporter": "python",
   "pygments_lexer": "ipython3",
   "version": "3.8.10"
  }
 },
 "nbformat": 4,
 "nbformat_minor": 4
}
